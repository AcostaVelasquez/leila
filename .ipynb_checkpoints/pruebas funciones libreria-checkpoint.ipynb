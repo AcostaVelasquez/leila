{
 "cells": [
  {
   "cell_type": "code",
   "execution_count": 1,
   "metadata": {},
   "outputs": [],
   "source": [
    "from datos import *\n",
    "import numpy as np\n",
    "import pandas as pd"
   ]
  },
  {
   "cell_type": "code",
   "execution_count": 2,
   "metadata": {},
   "outputs": [],
   "source": [
    "df = pd.read_excel('C:\\\\Users\\\\jairoruiz\\\\Documents\\\\GitHub\\\\calidad_datos\\\\x_test_data.xlsx')"
   ]
  },
  {
   "cell_type": "code",
   "execution_count": 3,
   "metadata": {},
   "outputs": [
    {
     "data": {
      "text/plain": [
       "(1239, 51)"
      ]
     },
     "execution_count": 3,
     "metadata": {},
     "output_type": "execute_result"
    }
   ],
   "source": [
    "df.shape"
   ]
  },
  {
   "cell_type": "code",
   "execution_count": 4,
   "metadata": {},
   "outputs": [
    {
     "data": {
      "text/html": [
       "<div>\n",
       "<style scoped>\n",
       "    .dataframe tbody tr th:only-of-type {\n",
       "        vertical-align: middle;\n",
       "    }\n",
       "\n",
       "    .dataframe tbody tr th {\n",
       "        vertical-align: top;\n",
       "    }\n",
       "\n",
       "    .dataframe thead th {\n",
       "        text-align: right;\n",
       "    }\n",
       "</style>\n",
       "<table border=\"1\" class=\"dataframe\">\n",
       "  <thead>\n",
       "    <tr style=\"text-align: right;\">\n",
       "      <th></th>\n",
       "      <th>Id</th>\n",
       "      <th>Nombre de la simulación</th>\n",
       "      <th>TipoDocumentoId</th>\n",
       "      <th>NumIdTributaria</th>\n",
       "      <th>TipoUsuarioId</th>\n",
       "      <th>Moneda Local</th>\n",
       "      <th>FechaCreacion</th>\n",
       "      <th>Tipousuario</th>\n",
       "      <th>Estado2</th>\n",
       "      <th>Estado</th>\n",
       "      <th>...</th>\n",
       "      <th>Cantidad por producto</th>\n",
       "      <th>valor total de la simulacion</th>\n",
       "      <th>Valor total de la simulacion USD</th>\n",
       "      <th>PesoTotalKg</th>\n",
       "      <th>VolumenTotalMtsCub</th>\n",
       "      <th>Fecha creación</th>\n",
       "      <th>Nombre de Alternativa</th>\n",
       "      <th>Pais OrigenTI</th>\n",
       "      <th>Ciudad OrigenTI</th>\n",
       "      <th>Pais DestinoTI</th>\n",
       "    </tr>\n",
       "  </thead>\n",
       "  <tbody>\n",
       "    <tr>\n",
       "      <th>0</th>\n",
       "      <td>28233</td>\n",
       "      <td>CAFE</td>\n",
       "      <td>1.0</td>\n",
       "      <td>x</td>\n",
       "      <td>3</td>\n",
       "      <td>COP</td>\n",
       "      <td>NaN</td>\n",
       "      <td>Otro</td>\n",
       "      <td>True</td>\n",
       "      <td>True</td>\n",
       "      <td>...</td>\n",
       "      <td>NaN</td>\n",
       "      <td>0.0</td>\n",
       "      <td>0.0000</td>\n",
       "      <td>0.0</td>\n",
       "      <td>0.0</td>\n",
       "      <td>43601.569546</td>\n",
       "      <td>NaN</td>\n",
       "      <td>NaN</td>\n",
       "      <td>NaN</td>\n",
       "      <td>NaN</td>\n",
       "    </tr>\n",
       "    <tr>\n",
       "      <th>1</th>\n",
       "      <td>13380</td>\n",
       "      <td>bolso3</td>\n",
       "      <td>1.0</td>\n",
       "      <td>NaN</td>\n",
       "      <td>3</td>\n",
       "      <td>COP</td>\n",
       "      <td>NaN</td>\n",
       "      <td>Otro</td>\n",
       "      <td>True</td>\n",
       "      <td>True</td>\n",
       "      <td>...</td>\n",
       "      <td>1.0</td>\n",
       "      <td>300000.0</td>\n",
       "      <td>1.3379</td>\n",
       "      <td>2.5</td>\n",
       "      <td>0.1</td>\n",
       "      <td>43025.728419</td>\n",
       "      <td>1</td>\n",
       "      <td>Colombia</td>\n",
       "      <td>Buenaventura</td>\n",
       "      <td>Canadá</td>\n",
       "    </tr>\n",
       "  </tbody>\n",
       "</table>\n",
       "<p>2 rows × 51 columns</p>\n",
       "</div>"
      ],
      "text/plain": [
       "      Id Nombre de la simulación  TipoDocumentoId NumIdTributaria  \\\n",
       "0  28233                    CAFE              1.0               x   \n",
       "1  13380                  bolso3              1.0             NaN   \n",
       "\n",
       "   TipoUsuarioId Moneda Local  FechaCreacion Tipousuario  Estado2  Estado  \\\n",
       "0              3          COP            NaN        Otro     True    True   \n",
       "1              3          COP            NaN        Otro     True    True   \n",
       "\n",
       "   ... Cantidad por producto valor total de la simulacion  \\\n",
       "0  ...                   NaN                          0.0   \n",
       "1  ...                   1.0                     300000.0   \n",
       "\n",
       "  Valor total de la simulacion USD PesoTotalKg VolumenTotalMtsCub  \\\n",
       "0                           0.0000         0.0                0.0   \n",
       "1                           1.3379         2.5                0.1   \n",
       "\n",
       "  Fecha creación Nombre de Alternativa Pais OrigenTI Ciudad OrigenTI  \\\n",
       "0   43601.569546                   NaN           NaN             NaN   \n",
       "1   43025.728419                     1      Colombia    Buenaventura   \n",
       "\n",
       "  Pais DestinoTI  \n",
       "0            NaN  \n",
       "1         Canadá  \n",
       "\n",
       "[2 rows x 51 columns]"
      ]
     },
     "execution_count": 4,
     "metadata": {},
     "output_type": "execute_result"
    }
   ],
   "source": [
    "df.head(2)"
   ]
  },
  {
   "cell_type": "code",
   "execution_count": 6,
   "metadata": {},
   "outputs": [
    {
     "data": {
      "text/html": [
       "<div>\n",
       "<style scoped>\n",
       "    .dataframe tbody tr th:only-of-type {\n",
       "        vertical-align: middle;\n",
       "    }\n",
       "\n",
       "    .dataframe tbody tr th {\n",
       "        vertical-align: top;\n",
       "    }\n",
       "\n",
       "    .dataframe thead th {\n",
       "        text-align: right;\n",
       "    }\n",
       "</style>\n",
       "<table border=\"1\" class=\"dataframe\">\n",
       "  <thead>\n",
       "    <tr style=\"text-align: right;\">\n",
       "      <th></th>\n",
       "      <th>Id</th>\n",
       "      <th>UCO alto</th>\n",
       "      <th>UCO largo</th>\n",
       "      <th>UCO volumen</th>\n",
       "    </tr>\n",
       "  </thead>\n",
       "  <tbody>\n",
       "    <tr>\n",
       "      <th>Id</th>\n",
       "      <td>1.000000</td>\n",
       "      <td>-0.030113</td>\n",
       "      <td>0.030602</td>\n",
       "      <td>-0.046212</td>\n",
       "    </tr>\n",
       "    <tr>\n",
       "      <th>UCO alto</th>\n",
       "      <td>-0.030113</td>\n",
       "      <td>1.000000</td>\n",
       "      <td>0.005742</td>\n",
       "      <td>0.927618</td>\n",
       "    </tr>\n",
       "    <tr>\n",
       "      <th>UCO largo</th>\n",
       "      <td>0.030602</td>\n",
       "      <td>0.005742</td>\n",
       "      <td>1.000000</td>\n",
       "      <td>0.005279</td>\n",
       "    </tr>\n",
       "    <tr>\n",
       "      <th>UCO volumen</th>\n",
       "      <td>-0.046212</td>\n",
       "      <td>0.927618</td>\n",
       "      <td>0.005279</td>\n",
       "      <td>1.000000</td>\n",
       "    </tr>\n",
       "  </tbody>\n",
       "</table>\n",
       "</div>"
      ],
      "text/plain": [
       "                   Id  UCO alto  UCO largo  UCO volumen\n",
       "Id           1.000000 -0.030113   0.030602    -0.046212\n",
       "UCO alto    -0.030113  1.000000   0.005742     0.927618\n",
       "UCO largo    0.030602  0.005742   1.000000     0.005279\n",
       "UCO volumen -0.046212  0.927618   0.005279     1.000000"
      ]
     },
     "execution_count": 6,
     "metadata": {},
     "output_type": "execute_result"
    }
   ],
   "source": [
    "temp = correlacion(df, variables=['Id', 'UCO alto', 'UCO largo', 'UCO volumen'])\n",
    "temp"
   ]
  },
  {
   "cell_type": "code",
   "execution_count": 12,
   "metadata": {},
   "outputs": [
    {
     "data": {
      "text/plain": [
       "pandas.core.frame.DataFrame"
      ]
     },
     "execution_count": 12,
     "metadata": {},
     "output_type": "execute_result"
    }
   ],
   "source": [
    "type(temp)"
   ]
  },
  {
   "cell_type": "code",
   "execution_count": null,
   "metadata": {},
   "outputs": [],
   "source": []
  }
 ],
 "metadata": {
  "kernelspec": {
   "display_name": "Python 3",
   "language": "python",
   "name": "python3"
  },
  "language_info": {
   "codemirror_mode": {
    "name": "ipython",
    "version": 3
   },
   "file_extension": ".py",
   "mimetype": "text/x-python",
   "name": "python",
   "nbconvert_exporter": "python",
   "pygments_lexer": "ipython3",
   "version": "3.7.7"
  }
 },
 "nbformat": 4,
 "nbformat_minor": 4
}
